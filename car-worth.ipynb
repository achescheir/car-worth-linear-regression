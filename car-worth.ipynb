{
 "cells": [
  {
   "cell_type": "code",
   "execution_count": 1,
   "metadata": {
    "collapsed": true
   },
   "outputs": [],
   "source": [
    "import pandas as pd\n",
    "import matplotlib.pyplot as plt\n",
    "import numpy as np\n",
    "from sklearn import linear_model, preprocessing, pipeline\n",
    "import itertools\n",
    "%matplotlib inline"
   ]
  },
  {
   "cell_type": "markdown",
   "metadata": {},
   "source": [
    "# How Much is Your Car Worth?\n",
    "\n",
    "Data about the retail price of 2005 General Motors cars can be found in `car_data.csv`.\n",
    "\n",
    "The columns are:\n",
    "\n",
    "1. Price: suggested retail price of the used 2005 GM car in excellent condition.\n",
    "2. Mileage: number of miles the car has been driven\n",
    "3. Make: manufacturer of the car such as Saturn, Pontiac, and Chevrolet\n",
    "4. Model: specific models for each car manufacturer such as Ion, Vibe, Cavalier\n",
    "5. Trim (of car): specific type of car model such as SE Sedan 4D, Quad Coupe 2D          \n",
    "6. Type: body type such as sedan, coupe, etc.      \n",
    "7. Cylinder: number of cylinders in the engine        \n",
    "8. Liter: a more specific measure of engine size     \n",
    "9. Doors: number of doors           \n",
    "10. Cruise: indicator variable representing whether the car has cruise control (1 = cruise)\n",
    "11. Sound: indicator variable representing whether the car has upgraded speakers (1 = upgraded)\n",
    "12. Leather: indicator variable representing whether the car has leather seats (1 = leather)\n",
    "\n",
    "## Tasks, Part 1\n",
    "\n",
    "1. Find the linear regression equation for mileage vs price.\n",
    "2. Chart the original data and the equation on the chart.\n",
    "3. Find the equation's $R^2$ score (use the `.score` method) to determine whether the\n",
    "equation is a good fit for this data. (0.8 and greater is considered a strong correlation.)\n",
    "\n",
    "## Tasks, Part 2\n",
    "\n",
    "1. Use mileage, cylinders, liters, doors, cruise, sound, and leather to find the linear regression equation.\n",
    "2. Find the equation's $R^2$ score (use the `.score` method) to determine whether the\n",
    "equation is a good fit for this data. (0.8 and greater is considered a strong correlation.)\n",
    "3. Find the combination of the factors that is the best predictor for price.\n",
    "\n",
    "## Tasks, Part 3\n",
    "\n",
    "1. Research dummy variables in scikit-learn to see how to use the make, model, and body type.\n",
    "2. Find the best combination of factors to predict price."
   ]
  },
  {
   "cell_type": "code",
   "execution_count": 2,
   "metadata": {
    "collapsed": false
   },
   "outputs": [
    {
     "data": {
      "text/html": [
       "<div>\n",
       "<table border=\"1\" class=\"dataframe\">\n",
       "  <thead>\n",
       "    <tr style=\"text-align: right;\">\n",
       "      <th></th>\n",
       "      <th>Price</th>\n",
       "      <th>Mileage</th>\n",
       "      <th>Make</th>\n",
       "      <th>Model</th>\n",
       "      <th>Trim</th>\n",
       "      <th>Type</th>\n",
       "      <th>Cylinder</th>\n",
       "      <th>Liter</th>\n",
       "      <th>Doors</th>\n",
       "      <th>Cruise</th>\n",
       "      <th>Sound</th>\n",
       "      <th>Leather</th>\n",
       "    </tr>\n",
       "  </thead>\n",
       "  <tbody>\n",
       "    <tr>\n",
       "      <th>0</th>\n",
       "      <td>17314.103129</td>\n",
       "      <td>8221</td>\n",
       "      <td>Buick</td>\n",
       "      <td>Century</td>\n",
       "      <td>Sedan 4D</td>\n",
       "      <td>Sedan</td>\n",
       "      <td>6</td>\n",
       "      <td>3.1</td>\n",
       "      <td>4</td>\n",
       "      <td>1</td>\n",
       "      <td>1</td>\n",
       "      <td>1</td>\n",
       "    </tr>\n",
       "    <tr>\n",
       "      <th>1</th>\n",
       "      <td>17542.036083</td>\n",
       "      <td>9135</td>\n",
       "      <td>Buick</td>\n",
       "      <td>Century</td>\n",
       "      <td>Sedan 4D</td>\n",
       "      <td>Sedan</td>\n",
       "      <td>6</td>\n",
       "      <td>3.1</td>\n",
       "      <td>4</td>\n",
       "      <td>1</td>\n",
       "      <td>1</td>\n",
       "      <td>0</td>\n",
       "    </tr>\n",
       "    <tr>\n",
       "      <th>2</th>\n",
       "      <td>16218.847862</td>\n",
       "      <td>13196</td>\n",
       "      <td>Buick</td>\n",
       "      <td>Century</td>\n",
       "      <td>Sedan 4D</td>\n",
       "      <td>Sedan</td>\n",
       "      <td>6</td>\n",
       "      <td>3.1</td>\n",
       "      <td>4</td>\n",
       "      <td>1</td>\n",
       "      <td>1</td>\n",
       "      <td>0</td>\n",
       "    </tr>\n",
       "    <tr>\n",
       "      <th>3</th>\n",
       "      <td>16336.913140</td>\n",
       "      <td>16342</td>\n",
       "      <td>Buick</td>\n",
       "      <td>Century</td>\n",
       "      <td>Sedan 4D</td>\n",
       "      <td>Sedan</td>\n",
       "      <td>6</td>\n",
       "      <td>3.1</td>\n",
       "      <td>4</td>\n",
       "      <td>1</td>\n",
       "      <td>0</td>\n",
       "      <td>0</td>\n",
       "    </tr>\n",
       "    <tr>\n",
       "      <th>4</th>\n",
       "      <td>16339.170324</td>\n",
       "      <td>19832</td>\n",
       "      <td>Buick</td>\n",
       "      <td>Century</td>\n",
       "      <td>Sedan 4D</td>\n",
       "      <td>Sedan</td>\n",
       "      <td>6</td>\n",
       "      <td>3.1</td>\n",
       "      <td>4</td>\n",
       "      <td>1</td>\n",
       "      <td>0</td>\n",
       "      <td>1</td>\n",
       "    </tr>\n",
       "  </tbody>\n",
       "</table>\n",
       "</div>"
      ],
      "text/plain": [
       "          Price  Mileage   Make    Model      Trim   Type  Cylinder  Liter  \\\n",
       "0  17314.103129     8221  Buick  Century  Sedan 4D  Sedan         6    3.1   \n",
       "1  17542.036083     9135  Buick  Century  Sedan 4D  Sedan         6    3.1   \n",
       "2  16218.847862    13196  Buick  Century  Sedan 4D  Sedan         6    3.1   \n",
       "3  16336.913140    16342  Buick  Century  Sedan 4D  Sedan         6    3.1   \n",
       "4  16339.170324    19832  Buick  Century  Sedan 4D  Sedan         6    3.1   \n",
       "\n",
       "   Doors  Cruise  Sound  Leather  \n",
       "0      4       1      1        1  \n",
       "1      4       1      1        0  \n",
       "2      4       1      1        0  \n",
       "3      4       1      0        0  \n",
       "4      4       1      0        1  "
      ]
     },
     "execution_count": 2,
     "metadata": {},
     "output_type": "execute_result"
    }
   ],
   "source": [
    "df = pd.read_csv(\"car_data.csv\")\n",
    "df.head()"
   ]
  },
  {
   "cell_type": "code",
   "execution_count": 3,
   "metadata": {
    "collapsed": false
   },
   "outputs": [
    {
     "name": "stderr",
     "output_type": "stream",
     "text": [
      "/usr/local/lib/python3.5/site-packages/scipy/linalg/basic.py:884: RuntimeWarning: internal gelsd driver lwork query error, required iwork dimension not returned. This is likely the result of LAPACK bug 0038, fixed in LAPACK 3.2.2 (released July 21, 2010). Falling back to 'gelss' driver.\n",
      "  warnings.warn(mesg, RuntimeWarning)\n"
     ]
    },
    {
     "name": "stdout",
     "output_type": "stream",
     "text": [
      "Price = Milage * -0.17 + 24764.56\n"
     ]
    },
    {
     "data": {
      "image/png": "[encoded data removed]",
      "text/plain": [
       "<matplotlib.figure.Figure at 0x10d59e518>"
      ]
     },
     "metadata": {},
     "output_type": "display_data"
    },
    {
     "name": "stdout",
     "output_type": "stream",
     "text": [
      "R² = 0.02\n"
     ]
    }
   ],
   "source": [
    "mileage_to_price = linear_model.LinearRegression()\n",
    "mileage_to_price.fit(df[[\"Mileage\"]],df.Price)\n",
    "print(\"Price = Milage * {:0.2f} + {:0.2f}\".format(mileage_to_price.coef_[0], mileage_to_price.intercept_))\n",
    "plt.scatter(df.Mileage,df.Price)\n",
    "plt.plot(df.Mileage,mileage_to_price.predict(df[[\"Mileage\"]]))\n",
    "plt.xlabel(\"Mileage\")\n",
    "plt.ylabel(\"Price\")\n",
    "plt.show()\n",
    "print('R\\u00b2 = {:0.2f}'.format(mileage_to_price.score(df[[\"Mileage\"]],df[[\"Price\"]])))"
   ]
  },
  {
   "cell_type": "markdown",
   "metadata": {},
   "source": [
    "Milage alone is apparently a poor predictor of price. Perhaps original MSRP would be a powerful additional feature."
   ]
  },
  {
   "cell_type": "code",
   "execution_count": 4,
   "metadata": {
    "collapsed": false
   },
   "outputs": [
    {
     "name": "stdout",
     "output_type": "stream",
     "text": [
      "Price = Mileage * -0.1697 + Cylinder * 3792.3789 + Liter * -787.2207 + Doors * -1542.7458 + Cruise * 6288.9971 + Sound * -1993.7953 + Leather * 3349.3616 + 6758.7551\n"
     ]
    }
   ],
   "source": [
    "numeric_to_price = linear_model.LinearRegression()\n",
    "numeric_cols = ['Mileage','Cylinder','Liter','Doors','Cruise','Sound','Leather']\n",
    "numeric_to_price.fit(df[numeric_cols],df.Price)\n",
    "formula = \"Price = \"\n",
    "for name, value in zip(numeric_cols,numeric_to_price.coef_):\n",
    "    formula = formula + \"{} * {:0.4f} + \".format(name, value)\n",
    "print(formula + \"{:0.4f}\".format(numeric_to_price.intercept_))"
   ]
  },
  {
   "cell_type": "code",
   "execution_count": 5,
   "metadata": {
    "collapsed": false
   },
   "outputs": [
    {
     "name": "stdout",
     "output_type": "stream",
     "text": [
      "Mileage : 0.0204634473235\n",
      "Cylinder : 0.323859037595\n",
      "Liter : 0.311526744279\n",
      "Doors : 0.0192514665915\n",
      "Cruise : 0.185633009297\n",
      "Sound : 0.0154623876242\n",
      "Leather : 0.0247108512641\n",
      "(('Cylinder',), 0.32385903759512258)\n",
      "(('Cylinder', 'Cruise'), 0.38394913240273443)\n",
      "(('Cylinder', 'Cruise', 'Leather'), 0.40380272693971553)\n",
      "(('Mileage', 'Cylinder', 'Cruise', 'Leather'), 0.42250742147747633)\n",
      "(('Mileage', 'Cylinder', 'Doors', 'Cruise', 'Leather'), 0.4369402151237245)\n",
      "(('Mileage', 'Cylinder', 'Doors', 'Cruise', 'Sound', 'Leather'), 0.4456909210587025)\n",
      "(('Mileage', 'Cylinder', 'Liter', 'Doors', 'Cruise', 'Sound', 'Leather'), 0.4462643536728379)\n"
     ]
    }
   ],
   "source": [
    "r_dict = {}\n",
    "for i in range(len(numeric_cols)):\n",
    "    for cols in itertools.combinations(numeric_cols,i+1):\n",
    "        combo_model = linear_model.LinearRegression()\n",
    "        combo_model.fit(df[list(cols)],df.Price)\n",
    "        r_dict[cols] = combo_model.score(df[list(cols)],df.Price)\n",
    "        if i == 0:\n",
    "            print( \"\".join([cols[0],\" : \", str(combo_model.score(df[list(cols)],df.Price))]))\n",
    "\n",
    "best_r_dict = {}\n",
    "for each_key in r_dict:\n",
    "    if len(each_key) in best_r_dict:\n",
    "        if r_dict[each_key] > best_r_dict[len(each_key)][1] :\n",
    "            best_r_dict[len(each_key)] = (each_key, r_dict[each_key])\n",
    "        elif r_dict[each_key] == best_r_dict[len(each_key)][1]:\n",
    "            print(\"DUPLICATE RSQ:\")\n",
    "            print(each_key)\n",
    "    else:\n",
    "        best_r_dict[len(each_key)] = (each_key, r_dict[each_key])\n",
    "for i in range(len(numeric_cols)):\n",
    "    print(best_r_dict[i+1])"
   ]
  },
  {
   "cell_type": "markdown",
   "metadata": {},
   "source": [
    "Even with all 7 numeric columns the correlation to price is quite low.\n",
    "The features in descending order of significance are as follows:\n",
    "\n",
    "1. Cylinder\n",
    "2. Cruise\n",
    "3. Leather\n",
    "4. Milage\n",
    "5. Doors\n",
    "6. Sound\n",
    "7. Liter\n",
    "\n",
    "After Cruise the additional value becomes questionable."
   ]
  },
  {
   "cell_type": "code",
   "execution_count": 6,
   "metadata": {
    "collapsed": false
   },
   "outputs": [
    {
     "name": "stdout",
     "output_type": "stream",
     "text": [
      "0.992408261421\n",
      "Mileage -0.185359010907\n",
      "Cylinder 466.582266629\n",
      "Liter 4340.19525394\n",
      "Doors -1333.77878307\n",
      "Cruise 69.4021230791\n",
      "Sound 211.264191337\n",
      "Leather 295.357793184\n",
      "Make_Buick -3531.31280255\n",
      "Make_Cadillac 9721.14345502\n",
      "Make_Chevrolet -4106.40140815\n",
      "Make_Pontiac -4706.64123119\n",
      "Make_SAAB 5516.71260003\n",
      "Make_Saturn -2893.50061316\n",
      "Model_9-2X AWD -3671.61655986\n",
      "Model_9_3 1440.62697287\n",
      "Model_9_3 HO 2307.38421403\n",
      "Model_9_5 2442.88721238\n",
      "Model_9_5 HO 2997.43076061\n",
      "Model_AVEO 65.5179240467\n",
      "Model_Bonneville -2882.26976031\n",
      "Model_CST-V 1336.91565944\n",
      "Model_CTS -300.334424541\n",
      "Model_Cavalier -539.75939637\n",
      "Model_Century -2231.24375512\n",
      "Model_Classic 988.984438125\n",
      "Model_Cobalt 414.295890181\n",
      "Model_Corvette 5164.12944633\n",
      "Model_Deville -5900.22621282\n",
      "Model_G6 733.986885347\n",
      "Model_GTO -25.4485986553\n",
      "Model_Grand Am -906.027416052\n",
      "Model_Grand Prix -3095.28797918\n",
      "Model_Impala -2900.68209633\n",
      "Model_Ion -683.394385098\n",
      "Model_L Series -2210.10622806\n",
      "Model_Lacrosse -1020.77493294\n",
      "Model_Lesabre -2226.35871522\n",
      "Model_Malibu -3302.54399806\n",
      "Model_Monte Carlo -3996.34361608\n",
      "Model_Park Avenue 1947.06460072\n",
      "Model_STS-V6 3617.78432322\n",
      "Model_STS-V8 3897.82357818\n",
      "Model_Sunfire 474.28252442\n",
      "Model_Vibe 994.123113245\n",
      "Model_XLR-V8 7069.18053154\n",
      "Trim_AWD Sportwagon 4D 916.842273611\n",
      "Trim_Aero Conv 2D -1205.64228114\n",
      "Trim_Aero Sedan 4D -233.817879351\n",
      "Trim_Aero Wagon 4D -803.854158875\n",
      "Trim_Arc Conv 2D 2330.18175717\n",
      "Trim_Arc Sedan 4D 2651.80052007\n",
      "Trim_Arc Wagon 4D 1042.2604191\n",
      "Trim_CX Sedan 4D -1410.100252\n",
      "Trim_CXL Sedan 4D -65.1012990264\n",
      "Trim_CXS Sedan 4D 454.426618085\n",
      "Trim_Conv 2D -4570.10936559\n",
      "Trim_Coupe 2D -1836.68753986\n",
      "Trim_Custom Sedan 4D -2544.70619454\n",
      "Trim_DHS Sedan 4D 2433.76047094\n",
      "Trim_DTS Sedan 4D 3081.95384533\n",
      "Trim_GT Coupe 2D -4218.424044\n",
      "Trim_GT Sedan 4D -1523.40405832\n",
      "Trim_GT Sportwagon 571.508626344\n",
      "Trim_GTP Sedan 4D 1341.72408138\n",
      "Trim_GXP Sedan 4D -765.923934171\n",
      "Trim_Hardtop Conv 2D 7069.18053154\n",
      "Trim_L300 Sedan 4D -2210.10622806\n",
      "Trim_LS Coupe 2D -1256.82041129\n",
      "Trim_LS Hatchback 4D 137.772848776\n",
      "Trim_LS MAXX Hback 4D -83.8680339747\n",
      "Trim_LS Sedan 4D -1163.75079075\n",
      "Trim_LS Sport Coupe 2D -1451.97651518\n",
      "Trim_LS Sport Sedan 4D -1082.31649161\n",
      "Trim_LT Coupe 2D 2105.31719522\n",
      "Trim_LT Hatchback 4D 385.726120977\n",
      "Trim_LT MAXX Hback 4D 327.771301979\n",
      "Trim_LT Sedan 4D -1037.30819391\n",
      "Trim_Limited Sedan 4D 318.347479321\n",
      "Trim_Linear Conv 2D 558.548446837\n",
      "Trim_Linear Sedan 4D 882.078526038\n",
      "Trim_Linear Wagon 4D 295.157250191\n",
      "Trim_MAXX Hback 4D -424.05146636\n",
      "Trim_Quad Coupe 2D -361.632552105\n",
      "Trim_SE Sedan 4D -96.7917854378\n",
      "Trim_SLE Sedan 4D 1292.84258725\n",
      "Trim_SS Coupe 2D 3504.95416993\n",
      "Trim_SS Sedan 4D 4018.50095468\n",
      "Trim_SVM Hatchback 4D -1946.87636701\n",
      "Trim_SVM Sedan 4D -2164.51056436\n",
      "Trim_Sedan 4D -2257.13511817\n",
      "Trim_Special Ed Ultra 4D -511.512712975\n",
      "Trim_Sportwagon 4D -494.22778671\n",
      "Type_Convertible 4182.15908882\n",
      "Type_Coupe -3515.26969728\n",
      "Type_Hatchback -1603.52559561\n",
      "Type_Sedan -591.05041958\n",
      "Type_Wagon 1527.68662366\n"
     ]
    }
   ],
   "source": [
    "categorical_cols = ['Make', 'Model', 'Trim', 'Type']\n",
    "numeric_cols = ['Mileage','Cylinder','Liter','Doors','Cruise','Sound','Leather']\n",
    "df_dummy = pd.get_dummies(df, prefix = categorical_cols, columns=categorical_cols)\n",
    "all_columns_model = linear_model.LinearRegression()\n",
    "all_input_cols = list(df_dummy.columns)\n",
    "all_input_cols.remove(\"Price\")\n",
    "all_columns_model.fit(df_dummy[all_input_cols],df_dummy[\"Price\"])\n",
    "print(all_columns_model.score(df_dummy[all_input_cols],df_dummy[\"Price\"]))\n",
    "for name, coef in zip(all_input_cols,all_columns_model.coef_):\n",
    "    print(name, coef)"
   ]
  },
  {
   "cell_type": "code",
   "execution_count": 7,
   "metadata": {
    "collapsed": false,
    "scrolled": false
   },
   "outputs": [
    {
     "name": "stdout",
     "output_type": "stream",
     "text": [
      "['Make', 'Model', 'Trim', 'Type', 'Mileage', 'Cylinder', 'Liter', 'Doors', 'Cruise', 'Sound', 'Leather']\n",
      "Make : 0.644426591411\n",
      "Model : 0.948959272833\n",
      "Trim : 0.633204625261\n",
      "Type : 0.307002407331\n",
      "Mileage : 0.0204634473235\n",
      "Cylinder : 0.323859037595\n",
      "Liter : 0.311526744279\n",
      "Doors : 0.0192514665915\n",
      "Cruise : 0.185633009297\n",
      "Sound : 0.0154623876242\n",
      "Leather : 0.0247108512641\n",
      "DUPLICATE RSQ:\n",
      "('Make', 'Model', 'Trim', 'Type', 'Mileage', 'Cylinder', 'Cruise', 'Sound', 'Leather') 0.992408261421\n",
      "DUPLICATE RSQ:\n",
      "('Model', 'Trim', 'Mileage', 'Cylinder', 'Liter', 'Doors', 'Cruise', 'Sound', 'Leather') 0.992408261421\n",
      "DUPLICATE RSQ:\n",
      "('Model', 'Trim', 'Mileage', 'Doors', 'Cruise', 'Leather') 0.9923353072\n",
      "DUPLICATE RSQ:\n",
      "('Model', 'Trim', 'Mileage', 'Liter', 'Cruise', 'Leather') 0.9923353072\n",
      "DUPLICATE RSQ:\n",
      "('Make', 'Model', 'Trim', 'Mileage', 'Cylinder', 'Liter', 'Cruise', 'Sound', 'Leather') 0.992408261421\n",
      "DUPLICATE RSQ:\n",
      "('Make', 'Model', 'Trim', 'Mileage', 'Liter', 'Doors', 'Cruise', 'Sound', 'Leather') 0.992408261421\n",
      "DUPLICATE RSQ:\n",
      "('Model', 'Trim', 'Mileage', 'Doors', 'Cruise', 'Sound', 'Leather') 0.992408261421\n",
      "DUPLICATE RSQ:\n",
      "('Model', 'Trim', 'Type', 'Mileage', 'Cylinder', 'Liter', 'Doors', 'Cruise', 'Sound', 'Leather') 0.992408261421\n",
      "DUPLICATE RSQ:\n",
      "('Model', 'Trim', 'Type', 'Mileage', 'Doors', 'Cruise', 'Sound', 'Leather') 0.992408261421\n",
      "DUPLICATE RSQ:\n",
      "('Make', 'Model', 'Trim', 'Mileage', 'Liter', 'Cruise', 'Sound', 'Leather') 0.992408261421\n",
      "DUPLICATE RSQ:\n",
      "('Model', 'Trim', 'Type', 'Mileage', 'Cylinder', 'Cruise', 'Sound', 'Leather') 0.992408261421\n",
      "DUPLICATE RSQ:\n",
      "('Make', 'Model', 'Trim', 'Type', 'Mileage', 'Doors', 'Cruise', 'Sound', 'Leather') 0.992408261421\n",
      "DUPLICATE RSQ:\n",
      "('Model', 'Trim', 'Mileage', 'Cylinder') 0.992223876047\n",
      "DUPLICATE RSQ:\n",
      "('Make', 'Model', 'Trim', 'Mileage', 'Doors', 'Cruise', 'Sound', 'Leather') 0.992408261421\n",
      "DUPLICATE RSQ:\n",
      "('Model', 'Trim', 'Mileage', 'Doors') 0.992223876047\n",
      "DUPLICATE RSQ:\n",
      "('Make', 'Model', 'Trim', 'Type', 'Mileage', 'Liter', 'Doors', 'Cruise', 'Sound', 'Leather') 0.992408261421\n",
      "DUPLICATE RSQ:\n",
      "('Make', 'Model', 'Trim', 'Mileage', 'Cylinder', 'Liter', 'Doors', 'Cruise', 'Sound', 'Leather') 0.992408261421\n",
      "DUPLICATE RSQ:\n",
      "('Make', 'Model', 'Trim', 'Type', 'Mileage', 'Cruise', 'Sound', 'Leather') 0.992408261421\n",
      "DUPLICATE RSQ:\n",
      "('Model', 'Trim', 'Mileage', 'Cylinder', 'Doors', 'Cruise', 'Sound', 'Leather') 0.992408261421\n",
      "DUPLICATE RSQ:\n",
      "('Model', 'Trim', 'Mileage', 'Liter', 'Cruise', 'Sound', 'Leather') 0.992408261421\n",
      "DUPLICATE RSQ:\n",
      "('Model', 'Trim', 'Type', 'Mileage', 'Cruise', 'Sound', 'Leather') 0.992408261421\n",
      "DUPLICATE RSQ:\n",
      "('Model', 'Trim', 'Type', 'Mileage', 'Cylinder', 'Liter', 'Cruise', 'Sound', 'Leather') 0.992408261421\n",
      "DUPLICATE RSQ:\n",
      "('Model', 'Trim', 'Mileage', 'Cylinder', 'Liter', 'Cruise', 'Sound', 'Leather') 0.992408261421\n",
      "DUPLICATE RSQ:\n",
      "('Make', 'Model', 'Trim', 'Type', 'Mileage', 'Cylinder', 'Doors', 'Cruise', 'Sound', 'Leather') 0.992408261421\n",
      "DUPLICATE RSQ:\n",
      "('Make', 'Model', 'Trim', 'Mileage', 'Cruise', 'Sound', 'Leather') 0.992408261421\n",
      "DUPLICATE RSQ:\n",
      "('Model', 'Trim', 'Type', 'Mileage', 'Liter', 'Doors', 'Cruise', 'Sound', 'Leather') 0.992408261421\n",
      "DUPLICATE RSQ:\n",
      "('Model', 'Trim', 'Type', 'Mileage', 'Cylinder', 'Doors', 'Cruise', 'Sound', 'Leather') 0.992408261421\n",
      "DUPLICATE RSQ:\n",
      "('Make', 'Model', 'Trim', 'Mileage', 'Cylinder', 'Cruise', 'Sound', 'Leather') 0.992408261421\n",
      "DUPLICATE RSQ:\n",
      "('Model', 'Trim', 'Type', 'Mileage', 'Liter', 'Cruise', 'Sound', 'Leather') 0.992408261421\n",
      "DUPLICATE RSQ:\n",
      "('Make', 'Model', 'Trim', 'Mileage', 'Cylinder', 'Doors', 'Cruise', 'Sound', 'Leather') 0.992408261421\n",
      "(('Model',), 0.94895927283295034)\n",
      "(('Model', 'Trim'), 0.97045128984755913)\n",
      "(('Model', 'Trim', 'Mileage'), 0.9922238760470643)\n",
      "(('Model', 'Trim', 'Mileage', 'Leather'), 0.99232951329868524)\n",
      "(('Model', 'Trim', 'Mileage', 'Sound', 'Leather'), 0.99240340153097195)\n",
      "(('Model', 'Trim', 'Mileage', 'Cruise', 'Sound', 'Leather'), 0.9924082614213805)\n",
      "(('Model', 'Trim', 'Mileage', 'Cylinder', 'Cruise', 'Sound', 'Leather'), 0.9924082614213805)\n",
      "(('Model', 'Trim', 'Mileage', 'Liter', 'Doors', 'Cruise', 'Sound', 'Leather'), 0.9924082614213805)\n",
      "(('Make', 'Model', 'Trim', 'Type', 'Mileage', 'Liter', 'Cruise', 'Sound', 'Leather'), 0.9924082614213805)\n",
      "(('Make', 'Model', 'Trim', 'Type', 'Mileage', 'Cylinder', 'Liter', 'Cruise', 'Sound', 'Leather'), 0.9924082614213805)\n",
      "(('Make', 'Model', 'Trim', 'Type', 'Mileage', 'Cylinder', 'Liter', 'Doors', 'Cruise', 'Sound', 'Leather'), 0.9924082614213805)\n"
     ]
    }
   ],
   "source": [
    "r_dict = {}\n",
    "all_cols = categorical_cols + numeric_cols\n",
    "print(all_cols)\n",
    "for i in range(len(all_cols)):\n",
    "    for cols in itertools.combinations(all_cols,i+1):\n",
    "        cols = list(cols)\n",
    "        sub_df = df[cols + [\"Price\"]]\n",
    "        categoricals = list([x for x in cols if x in categorical_cols])\n",
    "        if len(categoricals) > 0:\n",
    "            sub_df = pd.get_dummies(sub_df, prefix = categoricals, columns=categoricals)\n",
    "        all_columns_model = linear_model.LinearRegression()\n",
    "        all_input_cols = list(sub_df.columns)\n",
    "        all_input_cols.remove(\"Price\")\n",
    "        all_columns_model.fit(sub_df[all_input_cols],sub_df[\"Price\"])\n",
    "        r_dict[tuple(cols)] = all_columns_model.score(sub_df[all_input_cols],sub_df[\"Price\"])\n",
    "        if i == 0:\n",
    "            print( \"\".join([cols[0],\" : \", str(all_columns_model.score(sub_df[all_input_cols],sub_df[\"Price\"]))]))\n",
    "\n",
    "best_r_dict = {}\n",
    "for each_key in r_dict:\n",
    "    if len(each_key) in best_r_dict:\n",
    "        if r_dict[each_key] > best_r_dict[len(each_key)][1] :\n",
    "            best_r_dict[len(each_key)] = (each_key, r_dict[each_key])\n",
    "        elif r_dict[each_key] == best_r_dict[len(each_key)][1]:\n",
    "            print(\"DUPLICATE RSQ:\")\n",
    "            print(each_key,r_dict[each_key])\n",
    "    else:\n",
    "        best_r_dict[len(each_key)] = (each_key, r_dict[each_key])\n",
    "for i in range(len(all_cols)):\n",
    "    print(best_r_dict[i+1])"
   ]
  },
  {
   "cell_type": "markdown",
   "metadata": {},
   "source": [
    "Model, trim level and mileage are the most important contributors to price. This probably has to do with the fact that almost if not all the other categories are dependant on model and trim level. That's to say that by the time one has specified a model and trim level, sound, leather, engine etc are very limited."
   ]
  },
  {
   "cell_type": "code",
   "execution_count": 8,
   "metadata": {
    "collapsed": false
   },
   "outputs": [],
   "source": [
    "# cat_df = df[categorical_cols]\n",
    "# le = preprocessing.LabelEncoder()\n",
    "# ohe = preprocessing.OneHotEncoder()\n",
    "# linear = linear_model.LinearRegression()\n",
    "# le.fit_transform(cat_df[\"Trim\"])"
   ]
  },
  {
   "cell_type": "code",
   "execution_count": 9,
   "metadata": {
    "collapsed": false
   },
   "outputs": [],
   "source": [
    "# le = preprocessing.LabelEncoder()\n",
    "# ohe = preprocessing.OneHotEncoder()\n",
    "# linear = linear_model.LinearRegression()\n",
    "# full_model = pipeline.Pipeline([('Label',le),(\"OneHot\",ohe),(\"Linear\",linear)])\n",
    "# full_model.fit(df[all_cols],df.Price)\n",
    "# full_model.get_params(\"Label\")"
   ]
  },
  {
   "cell_type": "code",
   "execution_count": null,
   "metadata": {
    "collapsed": true
   },
   "outputs": [],
   "source": []
  }
 ],
 "metadata": {
  "kernelspec": {
   "display_name": "Python 3",
   "language": "python",
   "name": "python3"
  },
  "language_info": {
   "codemirror_mode": {
    "name": "ipython",
    "version": 3
   },
   "file_extension": ".py",
   "mimetype": "text/x-python",
   "name": "python",
   "nbconvert_exporter": "python",
   "pygments_lexer": "ipython3",
   "version": "3.5.1"
  }
 },
 "nbformat": 4,
 "nbformat_minor": 0
}
